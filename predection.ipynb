{
 "cells": [
  {
   "cell_type": "code",
   "execution_count": null,
   "id": "436b565e",
   "metadata": {},
   "outputs": [
    {
     "name": "stderr",
     "output_type": "stream",
     "text": [
      "WARNING:absl:Compiled the loaded model, but the compiled metrics have yet to be built. `model.compile_metrics` will be empty until you train or evaluate the model.\n"
     ]
    },
    {
     "name": "stdout",
     "output_type": "stream",
     "text": [
      "\u001b[1m1/1\u001b[0m \u001b[32m━━━━━━━━━━━━━━━━━━━━\u001b[0m\u001b[37m\u001b[0m \u001b[1m0s\u001b[0m 141ms/step\n",
      "Churn probability: 0.01617072\n"
     ]
    }
   ],
   "source": [
    "import joblib\n",
    "import pandas as pd\n",
    "from tensorflow.keras.models import load_model\n",
    "\n",
    "scaler = joblib.load('scaler.pkl')\n",
    "ohe_geo = joblib.load('ohe_geo.pkl')\n",
    "ohe_gender = joblib.load('ohe_gender.pkl')\n",
    "\n",
    "model = load_model('model_trained.h5')\n",
    "\n",
    "new_data = pd.DataFrame({\n",
    "    'CreditScore': [600],\n",
    "    'Geography': ['France'],\n",
    "    'Gender': ['Male'],\n",
    "    'Age': [40],\n",
    "    'Tenure': [3],\n",
    "    'Balance': [60000],\n",
    "    'NumOfProducts': [2],\n",
    "    'HasCrCard': [1],\n",
    "    'IsActiveMember': [1],\n",
    "    'EstimatedSalary': [50000]\n",
    "})\n",
    "\n",
    "# One-hot encode new data\n",
    "geo_encoded = ohe_geo.transform(new_data[['Geography']]).toarray()\n",
    "gender_encoded = ohe_gender.transform(new_data[['Gender']]).toarray()\n",
    "geo_df = pd.DataFrame(geo_encoded, columns=ohe_geo.get_feature_names_out(['Geography']))\n",
    "gender_df = pd.DataFrame(gender_encoded, columns=ohe_gender.get_feature_names_out(['Gender']))\n",
    "\n",
    "new_data = pd.concat([new_data.drop(['Geography', 'Gender'], axis=1), geo_df, gender_df], axis=1)\n",
    "\n",
    "new_data_scaled = scaler.transform(new_data)\n",
    "\n",
    "prediction = model.predict(new_data_scaled)\n",
    "print(\"Churn probability:\", prediction[0][0])\n"
   ]
  },
  {
   "cell_type": "code",
   "execution_count": null,
   "id": "48d43e70",
   "metadata": {},
   "outputs": [],
   "source": []
  }
 ],
 "metadata": {
  "kernelspec": {
   "display_name": "Python 3",
   "language": "python",
   "name": "python3"
  },
  "language_info": {
   "codemirror_mode": {
    "name": "ipython",
    "version": 3
   },
   "file_extension": ".py",
   "mimetype": "text/x-python",
   "name": "python",
   "nbconvert_exporter": "python",
   "pygments_lexer": "ipython3",
   "version": "3.12.5"
  }
 },
 "nbformat": 4,
 "nbformat_minor": 5
}
